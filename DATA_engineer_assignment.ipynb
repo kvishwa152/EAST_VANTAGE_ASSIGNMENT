{
 "cells": [
  {
   "cell_type": "code",
   "execution_count": 1,
   "id": "215a3d79",
   "metadata": {},
   "outputs": [],
   "source": [
    "import pandas as pd"
   ]
  },
  {
   "cell_type": "markdown",
   "id": "c439fd1f",
   "metadata": {},
   "source": [
    "# read all the data by using dataframe"
   ]
  },
  {
   "cell_type": "code",
   "execution_count": 3,
   "id": "0db0b384",
   "metadata": {},
   "outputs": [],
   "source": [
    "sales = pd.read_csv(r\"D:\\all_notes\\Assignment\\sales.csv\")"
   ]
  },
  {
   "cell_type": "code",
   "execution_count": 54,
   "id": "62618076",
   "metadata": {},
   "outputs": [
    {
     "data": {
      "text/plain": [
       "(500, 2)"
      ]
     },
     "execution_count": 54,
     "metadata": {},
     "output_type": "execute_result"
    }
   ],
   "source": [
    "sales.shape"
   ]
  },
  {
   "cell_type": "code",
   "execution_count": 55,
   "id": "67e9a952",
   "metadata": {},
   "outputs": [
    {
     "data": {
      "text/plain": [
       "Index(['sales_id', 'customer_id'], dtype='object')"
      ]
     },
     "execution_count": 55,
     "metadata": {},
     "output_type": "execute_result"
    }
   ],
   "source": [
    "sales.columns"
   ]
  },
  {
   "cell_type": "markdown",
   "id": "f7da9eb7",
   "metadata": {},
   "source": [
    "# read order table and check data size"
   ]
  },
  {
   "cell_type": "code",
   "execution_count": 5,
   "id": "deb512a5",
   "metadata": {},
   "outputs": [],
   "source": [
    "orders = pd.read_csv(r\"D:\\all_notes\\Assignment\\orders.csv\")"
   ]
  },
  {
   "cell_type": "code",
   "execution_count": 56,
   "id": "0dcef00c",
   "metadata": {},
   "outputs": [
    {
     "data": {
      "text/plain": [
       "(1500, 4)"
      ]
     },
     "execution_count": 56,
     "metadata": {},
     "output_type": "execute_result"
    }
   ],
   "source": [
    "orders.shape"
   ]
  },
  {
   "cell_type": "code",
   "execution_count": 58,
   "id": "02ae47bf",
   "metadata": {},
   "outputs": [
    {
     "data": {
      "text/plain": [
       "Index(['order_id', 'sales_id', 'item_id', 'quantity'], dtype='object')"
      ]
     },
     "execution_count": 58,
     "metadata": {},
     "output_type": "execute_result"
    }
   ],
   "source": [
    "orders.columns"
   ]
  },
  {
   "cell_type": "markdown",
   "id": "44822a43",
   "metadata": {},
   "source": [
    "# read items data"
   ]
  },
  {
   "cell_type": "code",
   "execution_count": 39,
   "id": "6b83b9ea",
   "metadata": {},
   "outputs": [],
   "source": [
    "item = pd.read_csv(r\"D:\\all_notes\\Assignment\\items.csv\")\n"
   ]
  },
  {
   "cell_type": "code",
   "execution_count": 59,
   "id": "753899f3",
   "metadata": {},
   "outputs": [
    {
     "data": {
      "text/plain": [
       "(1500, 4)"
      ]
     },
     "execution_count": 59,
     "metadata": {},
     "output_type": "execute_result"
    }
   ],
   "source": [
    "items.shape"
   ]
  },
  {
   "cell_type": "markdown",
   "id": "a1df265f",
   "metadata": {},
   "source": [
    "# read custmore table"
   ]
  },
  {
   "cell_type": "code",
   "execution_count": 46,
   "id": "5b72fa2e",
   "metadata": {},
   "outputs": [],
   "source": [
    "customer = pd.read_csv(r\"D:\\all_notes\\Assignment\\customers.csv\")"
   ]
  },
  {
   "cell_type": "code",
   "execution_count": 40,
   "id": "93ddec29",
   "metadata": {},
   "outputs": [
    {
     "data": {
      "text/plain": [
       "Index(['item_id', 'item_name'], dtype='object')"
      ]
     },
     "execution_count": 40,
     "metadata": {},
     "output_type": "execute_result"
    }
   ],
   "source": [
    "item.columns"
   ]
  },
  {
   "cell_type": "code",
   "execution_count": 41,
   "id": "b1097570",
   "metadata": {},
   "outputs": [
    {
     "data": {
      "text/plain": [
       "(3, 2)"
      ]
     },
     "execution_count": 41,
     "metadata": {},
     "output_type": "execute_result"
    }
   ],
   "source": [
    "item.shape"
   ]
  },
  {
   "cell_type": "code",
   "execution_count": 24,
   "id": "7b664b06",
   "metadata": {},
   "outputs": [
    {
     "data": {
      "text/plain": [
       "Index(['order_id', 'sales_id', 'item_id', 'quantity'], dtype='object')"
      ]
     },
     "execution_count": 24,
     "metadata": {},
     "output_type": "execute_result"
    }
   ],
   "source": [
    "orders.columns"
   ]
  },
  {
   "cell_type": "code",
   "execution_count": 27,
   "id": "2766253f",
   "metadata": {},
   "outputs": [
    {
     "data": {
      "text/plain": [
       "(1500, 4)"
      ]
     },
     "execution_count": 27,
     "metadata": {},
     "output_type": "execute_result"
    }
   ],
   "source": [
    "orders.shape"
   ]
  },
  {
   "cell_type": "markdown",
   "id": "dece0ee8",
   "metadata": {},
   "source": [
    "# merge sales & customer"
   ]
  },
  {
   "cell_type": "code",
   "execution_count": 47,
   "id": "f111aa0a",
   "metadata": {},
   "outputs": [],
   "source": [
    "sales_cust = pd.merge(sales,customers,on = \"customer_id\")"
   ]
  },
  {
   "cell_type": "code",
   "execution_count": 26,
   "id": "2d05eeef",
   "metadata": {},
   "outputs": [
    {
     "data": {
      "text/plain": [
       "Index(['sales_id', 'customer_id', 'age'], dtype='object')"
      ]
     },
     "execution_count": 26,
     "metadata": {},
     "output_type": "execute_result"
    }
   ],
   "source": [
    "sales_cust.columns"
   ]
  },
  {
   "cell_type": "markdown",
   "id": "fb0f551c",
   "metadata": {},
   "source": [
    "# merge sales&customer &orders\n"
   ]
  },
  {
   "cell_type": "code",
   "execution_count": 29,
   "id": "9147bc00",
   "metadata": {},
   "outputs": [],
   "source": [
    "sales_cust_orders = pd.merge(sales_cust,orders,on = 'sales_id')"
   ]
  },
  {
   "cell_type": "code",
   "execution_count": 30,
   "id": "35d264f9",
   "metadata": {},
   "outputs": [
    {
     "data": {
      "text/plain": [
       "Index(['sales_id', 'customer_id', 'age', 'order_id', 'item_id', 'quantity'], dtype='object')"
      ]
     },
     "execution_count": 30,
     "metadata": {},
     "output_type": "execute_result"
    }
   ],
   "source": [
    "sales_cust_orders.columns"
   ]
  },
  {
   "cell_type": "code",
   "execution_count": 31,
   "id": "6d437bf4",
   "metadata": {},
   "outputs": [
    {
     "data": {
      "text/plain": [
       "(1500, 6)"
      ]
     },
     "execution_count": 31,
     "metadata": {},
     "output_type": "execute_result"
    }
   ],
   "source": [
    "sales_cust_orders.shape"
   ]
  },
  {
   "cell_type": "code",
   "execution_count": 32,
   "id": "98c1fc14",
   "metadata": {},
   "outputs": [],
   "source": [
    "orders_sales_cust=pd.merge(orders,sales_cust,on = 'sales_id')"
   ]
  },
  {
   "cell_type": "code",
   "execution_count": 33,
   "id": "b423159d",
   "metadata": {},
   "outputs": [
    {
     "data": {
      "text/plain": [
       "Index(['order_id', 'sales_id', 'item_id', 'quantity', 'customer_id', 'age'], dtype='object')"
      ]
     },
     "execution_count": 33,
     "metadata": {},
     "output_type": "execute_result"
    }
   ],
   "source": [
    "orders_sales_cust.columns"
   ]
  },
  {
   "cell_type": "code",
   "execution_count": 34,
   "id": "5f736103",
   "metadata": {},
   "outputs": [
    {
     "data": {
      "text/plain": [
       "(1500, 6)"
      ]
     },
     "execution_count": 34,
     "metadata": {},
     "output_type": "execute_result"
    }
   ],
   "source": [
    "orders_sales_cust.shape"
   ]
  },
  {
   "cell_type": "code",
   "execution_count": 35,
   "id": "228aad89",
   "metadata": {},
   "outputs": [
    {
     "data": {
      "text/html": [
       "<div>\n",
       "<style scoped>\n",
       "    .dataframe tbody tr th:only-of-type {\n",
       "        vertical-align: middle;\n",
       "    }\n",
       "\n",
       "    .dataframe tbody tr th {\n",
       "        vertical-align: top;\n",
       "    }\n",
       "\n",
       "    .dataframe thead th {\n",
       "        text-align: right;\n",
       "    }\n",
       "</style>\n",
       "<table border=\"1\" class=\"dataframe\">\n",
       "  <thead>\n",
       "    <tr style=\"text-align: right;\">\n",
       "      <th></th>\n",
       "      <th>order_id</th>\n",
       "      <th>sales_id</th>\n",
       "      <th>item_id</th>\n",
       "      <th>quantity</th>\n",
       "      <th>customer_id</th>\n",
       "      <th>age</th>\n",
       "    </tr>\n",
       "  </thead>\n",
       "  <tbody>\n",
       "    <tr>\n",
       "      <th>0</th>\n",
       "      <td>1</td>\n",
       "      <td>1</td>\n",
       "      <td>1</td>\n",
       "      <td>2.0</td>\n",
       "      <td>10</td>\n",
       "      <td>76</td>\n",
       "    </tr>\n",
       "    <tr>\n",
       "      <th>1</th>\n",
       "      <td>2</td>\n",
       "      <td>1</td>\n",
       "      <td>2</td>\n",
       "      <td>NaN</td>\n",
       "      <td>10</td>\n",
       "      <td>76</td>\n",
       "    </tr>\n",
       "    <tr>\n",
       "      <th>2</th>\n",
       "      <td>3</td>\n",
       "      <td>1</td>\n",
       "      <td>3</td>\n",
       "      <td>1.0</td>\n",
       "      <td>10</td>\n",
       "      <td>76</td>\n",
       "    </tr>\n",
       "    <tr>\n",
       "      <th>3</th>\n",
       "      <td>4</td>\n",
       "      <td>2</td>\n",
       "      <td>1</td>\n",
       "      <td>1.0</td>\n",
       "      <td>85</td>\n",
       "      <td>39</td>\n",
       "    </tr>\n",
       "    <tr>\n",
       "      <th>4</th>\n",
       "      <td>5</td>\n",
       "      <td>2</td>\n",
       "      <td>2</td>\n",
       "      <td>1.0</td>\n",
       "      <td>85</td>\n",
       "      <td>39</td>\n",
       "    </tr>\n",
       "  </tbody>\n",
       "</table>\n",
       "</div>"
      ],
      "text/plain": [
       "   order_id  sales_id  item_id  quantity  customer_id  age\n",
       "0         1         1        1       2.0           10   76\n",
       "1         2         1        2       NaN           10   76\n",
       "2         3         1        3       1.0           10   76\n",
       "3         4         2        1       1.0           85   39\n",
       "4         5         2        2       1.0           85   39"
      ]
     },
     "execution_count": 35,
     "metadata": {},
     "output_type": "execute_result"
    }
   ],
   "source": [
    "orders_sales_cust.head()"
   ]
  },
  {
   "cell_type": "markdown",
   "id": "49ca82b9",
   "metadata": {},
   "source": [
    "## final dataframe"
   ]
  },
  {
   "cell_type": "code",
   "execution_count": 49,
   "id": "05c30278",
   "metadata": {},
   "outputs": [],
   "source": [
    "final_df=orders_sales_cust_items = pd.merge(orders_sales_cust,item,on='item_id')"
   ]
  },
  {
   "cell_type": "code",
   "execution_count": 50,
   "id": "33862198",
   "metadata": {},
   "outputs": [
    {
     "data": {
      "text/plain": [
       "Index(['order_id', 'sales_id', 'item_id', 'quantity', 'customer_id', 'age',\n",
       "       'item_name'],\n",
       "      dtype='object')"
      ]
     },
     "execution_count": 50,
     "metadata": {},
     "output_type": "execute_result"
    }
   ],
   "source": [
    "final_df.columns"
   ]
  },
  {
   "cell_type": "code",
   "execution_count": 51,
   "id": "40907966",
   "metadata": {},
   "outputs": [
    {
     "data": {
      "text/plain": [
       "(1500, 7)"
      ]
     },
     "execution_count": 51,
     "metadata": {},
     "output_type": "execute_result"
    }
   ],
   "source": [
    "final_df.shape"
   ]
  },
  {
   "cell_type": "code",
   "execution_count": 52,
   "id": "b5a51251",
   "metadata": {},
   "outputs": [],
   "source": [
    "final_df.to_csv(\"company_data.csv\",sep =\",\")"
   ]
  },
  {
   "cell_type": "code",
   "execution_count": 53,
   "id": "75378446",
   "metadata": {},
   "outputs": [
    {
     "data": {
      "text/plain": [
       "'C:\\\\Users\\\\Asus'"
      ]
     },
     "execution_count": 53,
     "metadata": {},
     "output_type": "execute_result"
    }
   ],
   "source": [
    "pwd\n"
   ]
  },
  {
   "cell_type": "code",
   "execution_count": 60,
   "id": "44de6e03",
   "metadata": {},
   "outputs": [
    {
     "data": {
      "text/html": [
       "<div>\n",
       "<style scoped>\n",
       "    .dataframe tbody tr th:only-of-type {\n",
       "        vertical-align: middle;\n",
       "    }\n",
       "\n",
       "    .dataframe tbody tr th {\n",
       "        vertical-align: top;\n",
       "    }\n",
       "\n",
       "    .dataframe thead th {\n",
       "        text-align: right;\n",
       "    }\n",
       "</style>\n",
       "<table border=\"1\" class=\"dataframe\">\n",
       "  <thead>\n",
       "    <tr style=\"text-align: right;\">\n",
       "      <th></th>\n",
       "      <th>order_id</th>\n",
       "      <th>sales_id</th>\n",
       "      <th>item_id</th>\n",
       "      <th>quantity</th>\n",
       "      <th>customer_id</th>\n",
       "      <th>age</th>\n",
       "      <th>item_name</th>\n",
       "    </tr>\n",
       "  </thead>\n",
       "  <tbody>\n",
       "    <tr>\n",
       "      <th>0</th>\n",
       "      <td>1</td>\n",
       "      <td>1</td>\n",
       "      <td>1</td>\n",
       "      <td>2.0</td>\n",
       "      <td>10</td>\n",
       "      <td>76</td>\n",
       "      <td>x</td>\n",
       "    </tr>\n",
       "    <tr>\n",
       "      <th>1</th>\n",
       "      <td>4</td>\n",
       "      <td>2</td>\n",
       "      <td>1</td>\n",
       "      <td>1.0</td>\n",
       "      <td>85</td>\n",
       "      <td>39</td>\n",
       "      <td>x</td>\n",
       "    </tr>\n",
       "    <tr>\n",
       "      <th>2</th>\n",
       "      <td>7</td>\n",
       "      <td>3</td>\n",
       "      <td>1</td>\n",
       "      <td>3.0</td>\n",
       "      <td>42</td>\n",
       "      <td>59</td>\n",
       "      <td>x</td>\n",
       "    </tr>\n",
       "    <tr>\n",
       "      <th>3</th>\n",
       "      <td>10</td>\n",
       "      <td>4</td>\n",
       "      <td>1</td>\n",
       "      <td>2.0</td>\n",
       "      <td>93</td>\n",
       "      <td>50</td>\n",
       "      <td>x</td>\n",
       "    </tr>\n",
       "    <tr>\n",
       "      <th>4</th>\n",
       "      <td>13</td>\n",
       "      <td>5</td>\n",
       "      <td>1</td>\n",
       "      <td>1.0</td>\n",
       "      <td>75</td>\n",
       "      <td>38</td>\n",
       "      <td>x</td>\n",
       "    </tr>\n",
       "    <tr>\n",
       "      <th>5</th>\n",
       "      <td>16</td>\n",
       "      <td>6</td>\n",
       "      <td>1</td>\n",
       "      <td>2.0</td>\n",
       "      <td>19</td>\n",
       "      <td>42</td>\n",
       "      <td>x</td>\n",
       "    </tr>\n",
       "    <tr>\n",
       "      <th>6</th>\n",
       "      <td>19</td>\n",
       "      <td>7</td>\n",
       "      <td>1</td>\n",
       "      <td>1.0</td>\n",
       "      <td>74</td>\n",
       "      <td>17</td>\n",
       "      <td>x</td>\n",
       "    </tr>\n",
       "    <tr>\n",
       "      <th>7</th>\n",
       "      <td>22</td>\n",
       "      <td>8</td>\n",
       "      <td>1</td>\n",
       "      <td>NaN</td>\n",
       "      <td>28</td>\n",
       "      <td>21</td>\n",
       "      <td>x</td>\n",
       "    </tr>\n",
       "    <tr>\n",
       "      <th>8</th>\n",
       "      <td>25</td>\n",
       "      <td>9</td>\n",
       "      <td>1</td>\n",
       "      <td>NaN</td>\n",
       "      <td>77</td>\n",
       "      <td>71</td>\n",
       "      <td>x</td>\n",
       "    </tr>\n",
       "    <tr>\n",
       "      <th>9</th>\n",
       "      <td>28</td>\n",
       "      <td>10</td>\n",
       "      <td>1</td>\n",
       "      <td>NaN</td>\n",
       "      <td>37</td>\n",
       "      <td>59</td>\n",
       "      <td>x</td>\n",
       "    </tr>\n",
       "  </tbody>\n",
       "</table>\n",
       "</div>"
      ],
      "text/plain": [
       "   order_id  sales_id  item_id  quantity  customer_id  age item_name\n",
       "0         1         1        1       2.0           10   76         x\n",
       "1         4         2        1       1.0           85   39         x\n",
       "2         7         3        1       3.0           42   59         x\n",
       "3        10         4        1       2.0           93   50         x\n",
       "4        13         5        1       1.0           75   38         x\n",
       "5        16         6        1       2.0           19   42         x\n",
       "6        19         7        1       1.0           74   17         x\n",
       "7        22         8        1       NaN           28   21         x\n",
       "8        25         9        1       NaN           77   71         x\n",
       "9        28        10        1       NaN           37   59         x"
      ]
     },
     "execution_count": 60,
     "metadata": {},
     "output_type": "execute_result"
    }
   ],
   "source": [
    "final_df.head(10)"
   ]
  },
  {
   "cell_type": "code",
   "execution_count": null,
   "id": "c83b3866",
   "metadata": {},
   "outputs": [],
   "source": [
    "# filtered_df = df[(df['age'] >= 18) & (df['age'] <= 35)]\n",
    "# # filtered_df.head(5)\n",
    "# grouped_df = filtered_df.groupby(['customer_id', 'item_name']).agg({'quantity': 'sum'}).reset_index()\n",
    "# # grouped_df.head(5)\n",
    "# final_df = grouped_df[grouped_df['quantity'] > 0]\n",
    "# # final_df.head(5)\n",
    "# final_df.to_csv(\"Final_Dataframe.csv\",sep=\";\",index=False)"
   ]
  },
  {
   "cell_type": "code",
   "execution_count": 61,
   "id": "7afa81c8",
   "metadata": {},
   "outputs": [],
   "source": [
    "# filter_df age wise\n",
    "filtered_df = final_df[(final_df['age'] >= 18) & (final_df['age'] <= 35)]"
   ]
  },
  {
   "cell_type": "code",
   "execution_count": 62,
   "id": "4edd0481",
   "metadata": {},
   "outputs": [
    {
     "data": {
      "text/html": [
       "<div>\n",
       "<style scoped>\n",
       "    .dataframe tbody tr th:only-of-type {\n",
       "        vertical-align: middle;\n",
       "    }\n",
       "\n",
       "    .dataframe tbody tr th {\n",
       "        vertical-align: top;\n",
       "    }\n",
       "\n",
       "    .dataframe thead th {\n",
       "        text-align: right;\n",
       "    }\n",
       "</style>\n",
       "<table border=\"1\" class=\"dataframe\">\n",
       "  <thead>\n",
       "    <tr style=\"text-align: right;\">\n",
       "      <th></th>\n",
       "      <th>order_id</th>\n",
       "      <th>sales_id</th>\n",
       "      <th>item_id</th>\n",
       "      <th>quantity</th>\n",
       "      <th>customer_id</th>\n",
       "      <th>age</th>\n",
       "      <th>item_name</th>\n",
       "    </tr>\n",
       "  </thead>\n",
       "  <tbody>\n",
       "    <tr>\n",
       "      <th>7</th>\n",
       "      <td>22</td>\n",
       "      <td>8</td>\n",
       "      <td>1</td>\n",
       "      <td>NaN</td>\n",
       "      <td>28</td>\n",
       "      <td>21</td>\n",
       "      <td>x</td>\n",
       "    </tr>\n",
       "    <tr>\n",
       "      <th>13</th>\n",
       "      <td>40</td>\n",
       "      <td>14</td>\n",
       "      <td>1</td>\n",
       "      <td>1.0</td>\n",
       "      <td>16</td>\n",
       "      <td>19</td>\n",
       "      <td>x</td>\n",
       "    </tr>\n",
       "    <tr>\n",
       "      <th>16</th>\n",
       "      <td>49</td>\n",
       "      <td>17</td>\n",
       "      <td>1</td>\n",
       "      <td>NaN</td>\n",
       "      <td>34</td>\n",
       "      <td>22</td>\n",
       "      <td>x</td>\n",
       "    </tr>\n",
       "    <tr>\n",
       "      <th>17</th>\n",
       "      <td>52</td>\n",
       "      <td>18</td>\n",
       "      <td>1</td>\n",
       "      <td>NaN</td>\n",
       "      <td>34</td>\n",
       "      <td>22</td>\n",
       "      <td>x</td>\n",
       "    </tr>\n",
       "    <tr>\n",
       "      <th>27</th>\n",
       "      <td>82</td>\n",
       "      <td>28</td>\n",
       "      <td>1</td>\n",
       "      <td>1.0</td>\n",
       "      <td>22</td>\n",
       "      <td>18</td>\n",
       "      <td>x</td>\n",
       "    </tr>\n",
       "  </tbody>\n",
       "</table>\n",
       "</div>"
      ],
      "text/plain": [
       "    order_id  sales_id  item_id  quantity  customer_id  age item_name\n",
       "7         22         8        1       NaN           28   21         x\n",
       "13        40        14        1       1.0           16   19         x\n",
       "16        49        17        1       NaN           34   22         x\n",
       "17        52        18        1       NaN           34   22         x\n",
       "27        82        28        1       1.0           22   18         x"
      ]
     },
     "execution_count": 62,
     "metadata": {},
     "output_type": "execute_result"
    }
   ],
   "source": [
    "filtered_df.head(5)"
   ]
  },
  {
   "cell_type": "code",
   "execution_count": 68,
   "id": "648c9328",
   "metadata": {},
   "outputs": [],
   "source": [
    "# group datafrmae as per age and item_name\n",
    "grouped_df = filtered_df.groupby(['customer_id','age', 'item_name']).agg({'quantity': 'sum'}).reset_index()"
   ]
  },
  {
   "cell_type": "code",
   "execution_count": 75,
   "id": "3dc5c139",
   "metadata": {},
   "outputs": [],
   "source": [
    "grouped_df.rename(columns = {\"customer_id\":\"customer\",\"item_name\":\"age\"},inplace=True)"
   ]
  },
  {
   "cell_type": "code",
   "execution_count": 77,
   "id": "ba4a0077",
   "metadata": {},
   "outputs": [
    {
     "data": {
      "text/html": [
       "<div>\n",
       "<style scoped>\n",
       "    .dataframe tbody tr th:only-of-type {\n",
       "        vertical-align: middle;\n",
       "    }\n",
       "\n",
       "    .dataframe tbody tr th {\n",
       "        vertical-align: top;\n",
       "    }\n",
       "\n",
       "    .dataframe thead th {\n",
       "        text-align: right;\n",
       "    }\n",
       "</style>\n",
       "<table border=\"1\" class=\"dataframe\">\n",
       "  <thead>\n",
       "    <tr style=\"text-align: right;\">\n",
       "      <th></th>\n",
       "      <th>customer</th>\n",
       "      <th>age</th>\n",
       "      <th>age</th>\n",
       "      <th>quantity</th>\n",
       "    </tr>\n",
       "  </thead>\n",
       "  <tbody>\n",
       "    <tr>\n",
       "      <th>0</th>\n",
       "      <td>5</td>\n",
       "      <td>18</td>\n",
       "      <td>x</td>\n",
       "      <td>3.0</td>\n",
       "    </tr>\n",
       "    <tr>\n",
       "      <th>1</th>\n",
       "      <td>5</td>\n",
       "      <td>18</td>\n",
       "      <td>y</td>\n",
       "      <td>3.0</td>\n",
       "    </tr>\n",
       "    <tr>\n",
       "      <th>2</th>\n",
       "      <td>5</td>\n",
       "      <td>18</td>\n",
       "      <td>z</td>\n",
       "      <td>4.0</td>\n",
       "    </tr>\n",
       "    <tr>\n",
       "      <th>3</th>\n",
       "      <td>7</td>\n",
       "      <td>30</td>\n",
       "      <td>x</td>\n",
       "      <td>14.0</td>\n",
       "    </tr>\n",
       "    <tr>\n",
       "      <th>4</th>\n",
       "      <td>7</td>\n",
       "      <td>30</td>\n",
       "      <td>y</td>\n",
       "      <td>19.0</td>\n",
       "    </tr>\n",
       "    <tr>\n",
       "      <th>...</th>\n",
       "      <td>...</td>\n",
       "      <td>...</td>\n",
       "      <td>...</td>\n",
       "      <td>...</td>\n",
       "    </tr>\n",
       "    <tr>\n",
       "      <th>67</th>\n",
       "      <td>97</td>\n",
       "      <td>23</td>\n",
       "      <td>y</td>\n",
       "      <td>2.0</td>\n",
       "    </tr>\n",
       "    <tr>\n",
       "      <th>68</th>\n",
       "      <td>97</td>\n",
       "      <td>23</td>\n",
       "      <td>z</td>\n",
       "      <td>3.0</td>\n",
       "    </tr>\n",
       "    <tr>\n",
       "      <th>69</th>\n",
       "      <td>100</td>\n",
       "      <td>30</td>\n",
       "      <td>x</td>\n",
       "      <td>1.0</td>\n",
       "    </tr>\n",
       "    <tr>\n",
       "      <th>70</th>\n",
       "      <td>100</td>\n",
       "      <td>30</td>\n",
       "      <td>y</td>\n",
       "      <td>1.0</td>\n",
       "    </tr>\n",
       "    <tr>\n",
       "      <th>71</th>\n",
       "      <td>100</td>\n",
       "      <td>30</td>\n",
       "      <td>z</td>\n",
       "      <td>5.0</td>\n",
       "    </tr>\n",
       "  </tbody>\n",
       "</table>\n",
       "<p>72 rows × 4 columns</p>\n",
       "</div>"
      ],
      "text/plain": [
       "    customer age age  quantity\n",
       "0          5  18   x       3.0\n",
       "1          5  18   y       3.0\n",
       "2          5  18   z       4.0\n",
       "3          7  30   x      14.0\n",
       "4          7  30   y      19.0\n",
       "..       ...  ..  ..       ...\n",
       "67        97  23   y       2.0\n",
       "68        97  23   z       3.0\n",
       "69       100  30   x       1.0\n",
       "70       100  30   y       1.0\n",
       "71       100  30   z       5.0\n",
       "\n",
       "[72 rows x 4 columns]"
      ]
     },
     "execution_count": 77,
     "metadata": {},
     "output_type": "execute_result"
    }
   ],
   "source": [
    "grouped_df"
   ]
  },
  {
   "cell_type": "code",
   "execution_count": 78,
   "id": "58df369d",
   "metadata": {},
   "outputs": [],
   "source": [
    "final_df = grouped_df[grouped_df['quantity'] > 0]"
   ]
  },
  {
   "cell_type": "code",
   "execution_count": 79,
   "id": "f4a7334a",
   "metadata": {},
   "outputs": [
    {
     "data": {
      "text/html": [
       "<div>\n",
       "<style scoped>\n",
       "    .dataframe tbody tr th:only-of-type {\n",
       "        vertical-align: middle;\n",
       "    }\n",
       "\n",
       "    .dataframe tbody tr th {\n",
       "        vertical-align: top;\n",
       "    }\n",
       "\n",
       "    .dataframe thead th {\n",
       "        text-align: right;\n",
       "    }\n",
       "</style>\n",
       "<table border=\"1\" class=\"dataframe\">\n",
       "  <thead>\n",
       "    <tr style=\"text-align: right;\">\n",
       "      <th></th>\n",
       "      <th>customer</th>\n",
       "      <th>age</th>\n",
       "      <th>age</th>\n",
       "      <th>quantity</th>\n",
       "    </tr>\n",
       "  </thead>\n",
       "  <tbody>\n",
       "    <tr>\n",
       "      <th>0</th>\n",
       "      <td>5</td>\n",
       "      <td>18</td>\n",
       "      <td>x</td>\n",
       "      <td>3.0</td>\n",
       "    </tr>\n",
       "    <tr>\n",
       "      <th>1</th>\n",
       "      <td>5</td>\n",
       "      <td>18</td>\n",
       "      <td>y</td>\n",
       "      <td>3.0</td>\n",
       "    </tr>\n",
       "    <tr>\n",
       "      <th>2</th>\n",
       "      <td>5</td>\n",
       "      <td>18</td>\n",
       "      <td>z</td>\n",
       "      <td>4.0</td>\n",
       "    </tr>\n",
       "    <tr>\n",
       "      <th>3</th>\n",
       "      <td>7</td>\n",
       "      <td>30</td>\n",
       "      <td>x</td>\n",
       "      <td>14.0</td>\n",
       "    </tr>\n",
       "    <tr>\n",
       "      <th>4</th>\n",
       "      <td>7</td>\n",
       "      <td>30</td>\n",
       "      <td>y</td>\n",
       "      <td>19.0</td>\n",
       "    </tr>\n",
       "    <tr>\n",
       "      <th>...</th>\n",
       "      <td>...</td>\n",
       "      <td>...</td>\n",
       "      <td>...</td>\n",
       "      <td>...</td>\n",
       "    </tr>\n",
       "    <tr>\n",
       "      <th>67</th>\n",
       "      <td>97</td>\n",
       "      <td>23</td>\n",
       "      <td>y</td>\n",
       "      <td>2.0</td>\n",
       "    </tr>\n",
       "    <tr>\n",
       "      <th>68</th>\n",
       "      <td>97</td>\n",
       "      <td>23</td>\n",
       "      <td>z</td>\n",
       "      <td>3.0</td>\n",
       "    </tr>\n",
       "    <tr>\n",
       "      <th>69</th>\n",
       "      <td>100</td>\n",
       "      <td>30</td>\n",
       "      <td>x</td>\n",
       "      <td>1.0</td>\n",
       "    </tr>\n",
       "    <tr>\n",
       "      <th>70</th>\n",
       "      <td>100</td>\n",
       "      <td>30</td>\n",
       "      <td>y</td>\n",
       "      <td>1.0</td>\n",
       "    </tr>\n",
       "    <tr>\n",
       "      <th>71</th>\n",
       "      <td>100</td>\n",
       "      <td>30</td>\n",
       "      <td>z</td>\n",
       "      <td>5.0</td>\n",
       "    </tr>\n",
       "  </tbody>\n",
       "</table>\n",
       "<p>70 rows × 4 columns</p>\n",
       "</div>"
      ],
      "text/plain": [
       "    customer age age  quantity\n",
       "0          5  18   x       3.0\n",
       "1          5  18   y       3.0\n",
       "2          5  18   z       4.0\n",
       "3          7  30   x      14.0\n",
       "4          7  30   y      19.0\n",
       "..       ...  ..  ..       ...\n",
       "67        97  23   y       2.0\n",
       "68        97  23   z       3.0\n",
       "69       100  30   x       1.0\n",
       "70       100  30   y       1.0\n",
       "71       100  30   z       5.0\n",
       "\n",
       "[70 rows x 4 columns]"
      ]
     },
     "execution_count": 79,
     "metadata": {},
     "output_type": "execute_result"
    }
   ],
   "source": [
    "final_df"
   ]
  },
  {
   "cell_type": "code",
   "execution_count": 80,
   "id": "b71bb445",
   "metadata": {},
   "outputs": [],
   "source": [
    "final_df.to_csv(\"Final_Dataframe.csv\",sep=\";\",index=False)"
   ]
  },
  {
   "cell_type": "code",
   "execution_count": 81,
   "id": "34f8257b",
   "metadata": {},
   "outputs": [
    {
     "data": {
      "text/plain": [
       "'C:\\\\Users\\\\Asus'"
      ]
     },
     "execution_count": 81,
     "metadata": {},
     "output_type": "execute_result"
    }
   ],
   "source": [
    "pwd"
   ]
  },
  {
   "cell_type": "code",
   "execution_count": null,
   "id": "8390f965",
   "metadata": {},
   "outputs": [],
   "source": []
  }
 ],
 "metadata": {
  "kernelspec": {
   "display_name": "Python 3 (ipykernel)",
   "language": "python",
   "name": "python3"
  },
  "language_info": {
   "codemirror_mode": {
    "name": "ipython",
    "version": 3
   },
   "file_extension": ".py",
   "mimetype": "text/x-python",
   "name": "python",
   "nbconvert_exporter": "python",
   "pygments_lexer": "ipython3",
   "version": "3.9.13"
  }
 },
 "nbformat": 4,
 "nbformat_minor": 5
}
